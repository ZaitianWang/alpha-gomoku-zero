{
 "cells": [
  {
   "cell_type": "code",
   "execution_count": 1,
   "metadata": {},
   "outputs": [],
   "source": [
    "import torch\n",
    "from torch.nn import functional as F\n",
    "import pickle\n",
    "from tqdm import tqdm"
   ]
  },
  {
   "cell_type": "code",
   "execution_count": 2,
   "metadata": {},
   "outputs": [],
   "source": [
    "width, height = 10, 10"
   ]
  },
  {
   "cell_type": "code",
   "execution_count": 3,
   "metadata": {},
   "outputs": [
    {
     "data": {
      "text/plain": [
       "tensor([[[0., 0., 0., 0., 0., 0., 0., 0., 0., 0.],\n",
       "         [0., 0., 0., 0., 0., 0., 0., 0., 0., 0.],\n",
       "         [0., 0., 0., 0., 0., 0., 0., 0., 0., 0.],\n",
       "         [0., 0., 0., 0., 0., 0., 0., 0., 0., 0.],\n",
       "         [0., 0., 0., 0., 0., 0., 0., 0., 0., 0.],\n",
       "         [0., 0., 0., 0., 0., 0., 0., 0., 0., 0.],\n",
       "         [0., 0., 0., 0., 0., 0., 0., 0., 0., 0.],\n",
       "         [0., 0., 0., 0., 0., 0., 0., 0., 0., 0.],\n",
       "         [0., 0., 0., 0., 0., 0., 0., 0., 0., 0.],\n",
       "         [0., 0., 0., 0., 0., 0., 0., 0., 0., 0.]],\n",
       "\n",
       "        [[0., 0., 0., 0., 0., 0., 0., 0., 0., 0.],\n",
       "         [0., 0., 0., 0., 0., 0., 0., 0., 0., 0.],\n",
       "         [0., 0., 0., 0., 0., 0., 0., 0., 0., 0.],\n",
       "         [0., 0., 0., 0., 0., 0., 0., 0., 0., 0.],\n",
       "         [0., 0., 0., 0., 0., 0., 0., 0., 0., 0.],\n",
       "         [0., 0., 0., 0., 0., 0., 0., 0., 0., 0.],\n",
       "         [0., 0., 0., 0., 0., 0., 0., 0., 0., 0.],\n",
       "         [0., 0., 0., 0., 0., 0., 0., 0., 0., 0.],\n",
       "         [0., 0., 0., 0., 0., 0., 0., 0., 0., 0.],\n",
       "         [0., 0., 0., 0., 0., 0., 0., 0., 0., 0.]]])"
      ]
     },
     "execution_count": 3,
     "metadata": {},
     "output_type": "execute_result"
    }
   ],
   "source": [
    "empty_board = torch.zeros(2, width, height)\n",
    "empty_board"
   ]
  },
  {
   "cell_type": "code",
   "execution_count": 4,
   "metadata": {},
   "outputs": [],
   "source": [
    "def get_next_state(state, move: int, width=10, height=10):\n",
    "    # only return but not change the current state\n",
    "    state_next = state.clone()\n",
    "    move_x = move // width\n",
    "    move_y = move % height\n",
    "    state_next[0, move_x, move_y] = 1\n",
    "    state_next[0], state_next[1] = torch.tensor(state_next[1].tolist()), torch.tensor(state_next[0].tolist())\n",
    "    return state_next"
   ]
  },
  {
   "cell_type": "code",
   "execution_count": 5,
   "metadata": {},
   "outputs": [],
   "source": [
    "traces = [\n",
    "    [   44,\t54,\t45,\t43,\t55,\t65,\t32,\t76,\t87,\t66,\t56,\t67,\t64,\t85,\t94,\t58,\t49,\t68,\t69,\t78,\t48,\t88,\t98,\t75,\t46,\t47,\t37,\t77,\t28],\n",
    "    [   44,\t54,\t45,\t43,\t55,\t65,\t32,\t76,\t87,\t66,\t56,\t67,\t64,\t85,\t94,\t58,\t49,\t68,\t69,\t78,\t48,\t88,\t98,\t75,\t46,\t47,\t37,\t77,\t73],\n",
    "    [   44,\t54,\t45,\t43,\t55,\t65,\t32,\t76,\t87,\t66,\t56,\t67,\t64,\t85,\t94,\t58,\t49,\t68,\t69,\t78,\t48,\t88,\t98,\t46,\t34,\t57,\t35,\t33,\t23,\t12,\t53,\t26,\t62,\t71,\t42,\t52,\t75,\t86,\t31],\n",
    "    [   44,\t54,\t45,\t43,\t55,\t65,\t32,\t76,\t87,\t66,\t56,\t67,\t64,\t85,\t94,\t58,\t49,\t68,\t69,\t78,\t48,\t88,\t98,\t46,\t34,\t57,\t35,\t33,\t23,\t12,\t53,\t26,\t62,\t71,\t42,\t52,\t75,\t31,\t86],\n",
    "    [   44,\t54,\t45,\t43,\t55,\t65,\t32,\t76,\t87,\t66,\t56,\t67,\t64,\t85,\t94,\t58,\t49,\t68,\t69,\t78,\t48,\t88,\t98,\t46,\t34,\t57,\t35,\t33,\t23,\t12,\t53,\t26,\t62,\t71,\t42,\t75,\t52,\t72,\t22],\n",
    "    [   44,\t54,\t45,\t43,\t55,\t65,\t32,\t76,\t87,\t66,\t56,\t67,\t64,\t85,\t94,\t58,\t49,\t68,\t69,\t78,\t48,\t88,\t98,\t46,\t34,\t57,\t35,\t33,\t23,\t12,\t53,\t62,\t26,\t17,\t75,\t42,\t86,\t97,\t41,\t14,\t15,\t37,\t25],\n",
    "    [   44,\t54,\t45,\t43,\t55,\t65,\t32,\t76,\t87,\t66,\t56,\t67,\t64,\t85,\t94,\t58,\t49,\t68,\t69,\t78,\t48,\t88,\t98,\t46,\t34,\t57,\t35,\t33,\t23,\t12,\t53,\t62,\t26,\t17,\t75,\t42,\t86,\t97,\t41,\t14,\t15,\t25,\t37,\t59,\t14],\n",
    "    [   55,\t45,\t44,\t46,\t33,\t66,\t56,\t54,\t36,\t37,\t35,\t34,\t53,\t26,\t43,\t23,\t24,\t12,\t1,\t42,\t32,\t84,\t75,\t64,\t74,\t65,\t63,\t73,\t62,\t77,\t85,\t52,\t25,\t47,\t67,\t48,\t49,\t37,\t15,\t17,\t27,\t81,\t82,\t61,\t51,\t72,\t76,\t77,\t58],\n",
    "    [   55,\t45,\t44,\t46,\t33,\t66,\t56,\t54,\t36,\t37,\t35,\t34,\t53,\t26,\t43,\t23,\t24,\t12,\t1,\t42,\t32,\t84,\t75,\t64,\t74,\t65,\t63,\t73,\t62,\t77,\t85,\t52,\t25,\t47,\t67,\t48,\t49,\t37,\t15,\t17,\t27,\t81,\t82,\t61,\t51,\t72,\t76,\t58,\t78,\t77,\t38,\t5,\t22,\t11],\n",
    "    [   55,\t45,\t44,\t46,\t33,\t66,\t56,\t54,\t36,\t37,\t35,\t34,\t53,\t26,\t43,\t23,\t24,\t12,\t1,\t42,\t32,\t84,\t75,\t64,\t74,\t65,\t63,\t73,\t62,\t77,\t85,\t52,\t25,\t47,\t67,\t48,\t49,\t37,\t15,\t17,\t27,\t81,\t82,\t61,\t51,\t72,\t76,\t58,\t77,\t78,\t22,\t11,\t38,\t68,\t88,\t5],\n",
    "    [   55,\t45,\t44,\t46,\t33,\t66,\t56,\t54,\t36,\t37,\t35,\t34,\t53,\t26,\t43,\t23,\t24,\t12,\t1,\t42,\t32,\t84,\t75,\t64,\t74,\t65,\t63,\t73,\t62,\t77,\t85,\t52,\t25,\t47,\t67,\t48,\t49,\t37,\t15,\t17,\t27,\t81,\t82,\t61,\t51,\t72,\t76,\t58,\t77,\t78,\t22,\t11,\t16,\t68,\t38,\t88]\n",
    "]\n",
    "draw = [False, False, False, False, False, False, False, False, True, True, False]\n",
    "dupl = [0, 28, 23, 37, 35, 31, 41, 0, 47, 48, 52]"
   ]
  },
  {
   "cell_type": "code",
   "execution_count": 6,
   "metadata": {},
   "outputs": [],
   "source": [
    "def gen_game(start_board, trace, draw, dupl):\n",
    "    game = []\n",
    "    board = start_board\n",
    "    for move in trace:\n",
    "        step = [\n",
    "            board.clone(), \n",
    "            # torch.tensor(move, dtype=torch.float32), \n",
    "            F.softmax(\n",
    "                torch.tensor(\n",
    "                    F.one_hot(torch.tensor(move).clone().detach(), num_classes=width*height), dtype=torch.float32\n",
    "                )*8, # soft but not that soft\n",
    "                dim=0\n",
    "            ),\n",
    "            torch.tensor(0, dtype=torch.float32)]\n",
    "        board = get_next_state(board, move)\n",
    "        game.append(step)\n",
    "    if not draw:\n",
    "        r = 1 # last player observes the board, moves, and makes a win\n",
    "        for reverse_g in range(len(game)-1, -1, -1):\n",
    "            game[reverse_g][2] = torch.tensor(r, dtype=torch.float32)\n",
    "            # invert the game result for the previous player\n",
    "            r = -r\n",
    "    return game[dupl:], board"
   ]
  },
  {
   "cell_type": "code",
   "execution_count": 7,
   "metadata": {},
   "outputs": [
    {
     "name": "stderr",
     "output_type": "stream",
     "text": [
      "/tmp/ipykernel_6585/4203176346.py:9: UserWarning: To copy construct from a tensor, it is recommended to use sourceTensor.clone().detach() or sourceTensor.clone().detach().requires_grad_(True), rather than torch.tensor(sourceTensor).\n",
      "  torch.tensor(\n"
     ]
    }
   ],
   "source": [
    "games = []  \n",
    "for i in range(len(traces)):\n",
    "    game, board = gen_game(empty_board, traces[i], draw[i], dupl[i])\n",
    "    games += game"
   ]
  },
  {
   "cell_type": "code",
   "execution_count": 8,
   "metadata": {},
   "outputs": [
    {
     "data": {
      "text/plain": [
       "(136,\n",
       " [tensor([[[0., 0., 0., 0., 0., 0., 0., 0., 0., 0.],\n",
       "           [0., 0., 0., 0., 0., 0., 0., 0., 0., 0.],\n",
       "           [0., 0., 0., 0., 0., 0., 0., 0., 0., 0.],\n",
       "           [0., 0., 0., 0., 0., 0., 0., 0., 0., 0.],\n",
       "           [0., 0., 0., 0., 0., 0., 0., 0., 0., 0.],\n",
       "           [0., 0., 0., 0., 0., 0., 0., 0., 0., 0.],\n",
       "           [0., 0., 0., 0., 0., 0., 0., 0., 0., 0.],\n",
       "           [0., 0., 0., 0., 0., 0., 0., 0., 0., 0.],\n",
       "           [0., 0., 0., 0., 0., 0., 0., 0., 0., 0.],\n",
       "           [0., 0., 0., 0., 0., 0., 0., 0., 0., 0.]],\n",
       "  \n",
       "          [[0., 0., 0., 0., 0., 0., 0., 0., 0., 0.],\n",
       "           [0., 0., 0., 0., 0., 0., 0., 0., 0., 0.],\n",
       "           [0., 0., 0., 0., 0., 0., 0., 0., 0., 0.],\n",
       "           [0., 0., 0., 0., 0., 0., 0., 0., 0., 0.],\n",
       "           [0., 0., 0., 0., 0., 0., 0., 0., 0., 0.],\n",
       "           [0., 0., 0., 0., 0., 0., 0., 0., 0., 0.],\n",
       "           [0., 0., 0., 0., 0., 0., 0., 0., 0., 0.],\n",
       "           [0., 0., 0., 0., 0., 0., 0., 0., 0., 0.],\n",
       "           [0., 0., 0., 0., 0., 0., 0., 0., 0., 0.],\n",
       "           [0., 0., 0., 0., 0., 0., 0., 0., 0., 0.]]]),\n",
       "  tensor([3.2468e-04, 3.2468e-04, 3.2468e-04, 3.2468e-04, 3.2468e-04, 3.2468e-04,\n",
       "          3.2468e-04, 3.2468e-04, 3.2468e-04, 3.2468e-04, 3.2468e-04, 3.2468e-04,\n",
       "          3.2468e-04, 3.2468e-04, 3.2468e-04, 3.2468e-04, 3.2468e-04, 3.2468e-04,\n",
       "          3.2468e-04, 3.2468e-04, 3.2468e-04, 3.2468e-04, 3.2468e-04, 3.2468e-04,\n",
       "          3.2468e-04, 3.2468e-04, 3.2468e-04, 3.2468e-04, 3.2468e-04, 3.2468e-04,\n",
       "          3.2468e-04, 3.2468e-04, 3.2468e-04, 3.2468e-04, 3.2468e-04, 3.2468e-04,\n",
       "          3.2468e-04, 3.2468e-04, 3.2468e-04, 3.2468e-04, 3.2468e-04, 3.2468e-04,\n",
       "          3.2468e-04, 3.2468e-04, 9.6786e-01, 3.2468e-04, 3.2468e-04, 3.2468e-04,\n",
       "          3.2468e-04, 3.2468e-04, 3.2468e-04, 3.2468e-04, 3.2468e-04, 3.2468e-04,\n",
       "          3.2468e-04, 3.2468e-04, 3.2468e-04, 3.2468e-04, 3.2468e-04, 3.2468e-04,\n",
       "          3.2468e-04, 3.2468e-04, 3.2468e-04, 3.2468e-04, 3.2468e-04, 3.2468e-04,\n",
       "          3.2468e-04, 3.2468e-04, 3.2468e-04, 3.2468e-04, 3.2468e-04, 3.2468e-04,\n",
       "          3.2468e-04, 3.2468e-04, 3.2468e-04, 3.2468e-04, 3.2468e-04, 3.2468e-04,\n",
       "          3.2468e-04, 3.2468e-04, 3.2468e-04, 3.2468e-04, 3.2468e-04, 3.2468e-04,\n",
       "          3.2468e-04, 3.2468e-04, 3.2468e-04, 3.2468e-04, 3.2468e-04, 3.2468e-04,\n",
       "          3.2468e-04, 3.2468e-04, 3.2468e-04, 3.2468e-04, 3.2468e-04, 3.2468e-04,\n",
       "          3.2468e-04, 3.2468e-04, 3.2468e-04, 3.2468e-04]),\n",
       "  tensor(1.)])"
      ]
     },
     "execution_count": 8,
     "metadata": {},
     "output_type": "execute_result"
    }
   ],
   "source": [
    "len(games), games[0]"
   ]
  },
  {
   "cell_type": "code",
   "execution_count": 16,
   "metadata": {},
   "outputs": [],
   "source": [
    "def augment_game(games):\n",
    "    game_aug = []\n",
    "    # geometric augmentation\n",
    "    for step in games:\n",
    "        game_aug.append(step)\n",
    "        # rotate 90, 180, 270; flip left-right, up-down; transpose\n",
    "        # rotate 90 degrees\n",
    "        game_aug.append([\n",
    "            torch.rot90(step[0], 1, [1, 2]),\n",
    "            step[1].reshape(width, height).rot90(1, [0, 1]).reshape(-1),\n",
    "            step[2]\n",
    "        ])\n",
    "        # rotate 180 degrees\n",
    "        game_aug.append([\n",
    "            torch.rot90(step[0], 2, [1, 2]),\n",
    "            step[1].reshape(width, height).rot90(2, [0, 1]).reshape(-1),\n",
    "            step[2]\n",
    "        ])\n",
    "        # rotate 270 degrees\n",
    "        game_aug.append([\n",
    "            torch.rot90(step[0], 3, [1, 2]),\n",
    "            step[1].reshape(width, height).rot90(3, [0, 1]).reshape(-1),\n",
    "            step[2]\n",
    "        ])\n",
    "        # flip left-right\n",
    "        game_aug.append([\n",
    "            torch.flip(step[0], [2]),\n",
    "            step[1].reshape(width, height).flip(1).reshape(-1),\n",
    "            step[2]\n",
    "        ])\n",
    "        # flip up-down\n",
    "        game_aug.append([\n",
    "            torch.flip(step[0], [1]),\n",
    "            step[1].reshape(width, height).flip(0).reshape(-1),\n",
    "            step[2]\n",
    "        ])\n",
    "        # transpose\n",
    "        game_aug.append([\n",
    "            step[0].transpose(1,2),\n",
    "            step[1].reshape(width, height).transpose(0,1).reshape(-1),\n",
    "            step[2]\n",
    "        ])\n",
    "    # noise augmentation\n",
    "    game_aug_aug = []\n",
    "    for step in tqdm(game_aug):\n",
    "        game_aug_aug.append(step)\n",
    "        # add noise to the board by flipping some pieces\n",
    "        for aug_step in range(5):\n",
    "            step_aug = step[0].clone()\n",
    "            # randomly flip 2% of the pieces from the board\n",
    "            target = torch.randperm(width*height)[:int(width*height*0.02)]\n",
    "            step_aug[0].reshape(-1)[target] = 1 - step_aug[0].reshape(-1)[target]\n",
    "            step_aug[1].reshape(-1)[target] = 1 - step_aug[1].reshape(-1)[target]\n",
    "            # append the augmented step\n",
    "            game_aug_aug.append([\n",
    "                step_aug,\n",
    "                step[1],\n",
    "                step[2]\n",
    "            ])\n",
    "    return game_aug_aug"
   ]
  },
  {
   "cell_type": "code",
   "execution_count": 17,
   "metadata": {},
   "outputs": [
    {
     "name": "stderr",
     "output_type": "stream",
     "text": [
      "100%|██████████| 952/952 [00:00<00:00, 2508.36it/s]\n"
     ]
    }
   ],
   "source": [
    "games_aug = augment_game(games)"
   ]
  },
  {
   "cell_type": "code",
   "execution_count": 18,
   "metadata": {},
   "outputs": [
    {
     "data": {
      "text/plain": [
       "5712"
      ]
     },
     "execution_count": 18,
     "metadata": {},
     "output_type": "execute_result"
    }
   ],
   "source": [
    "len(games_aug)"
   ]
  },
  {
   "cell_type": "code",
   "execution_count": 19,
   "metadata": {},
   "outputs": [],
   "source": [
    "# save the games\n",
    "pretrain_games = {\n",
    "    'board': [g[0] for g in games],\n",
    "    'move': [g[1] for g in games],\n",
    "    'result': [g[2] for g in games]\n",
    "}\n",
    "with open('games.pickle', 'wb') as f:\n",
    "    pickle.dump(pretrain_games, f)"
   ]
  },
  {
   "cell_type": "code",
   "execution_count": 20,
   "metadata": {},
   "outputs": [
    {
     "data": {
      "text/plain": [
       "(tensor([[[0., 0., 0., 0., 0., 0., 0., 0., 0., 0.],\n",
       "          [0., 0., 0., 0., 0., 0., 0., 0., 0., 0.],\n",
       "          [0., 0., 0., 0., 0., 0., 0., 0., 0., 0.],\n",
       "          [0., 0., 0., 0., 0., 0., 0., 0., 0., 0.],\n",
       "          [0., 0., 0., 0., 0., 0., 0., 0., 0., 0.],\n",
       "          [0., 0., 0., 0., 0., 0., 0., 0., 0., 0.],\n",
       "          [0., 0., 0., 0., 0., 0., 0., 0., 0., 0.],\n",
       "          [0., 0., 0., 0., 0., 0., 0., 0., 0., 0.],\n",
       "          [0., 0., 0., 0., 0., 0., 0., 0., 0., 0.],\n",
       "          [0., 0., 0., 0., 0., 0., 0., 0., 0., 0.]],\n",
       " \n",
       "         [[0., 0., 0., 0., 0., 0., 0., 0., 0., 0.],\n",
       "          [0., 0., 0., 0., 0., 0., 0., 0., 0., 0.],\n",
       "          [0., 0., 0., 0., 0., 0., 0., 0., 0., 0.],\n",
       "          [0., 0., 0., 0., 0., 0., 0., 0., 0., 0.],\n",
       "          [0., 0., 0., 0., 0., 0., 0., 0., 0., 0.],\n",
       "          [0., 0., 0., 0., 0., 0., 0., 0., 0., 0.],\n",
       "          [0., 0., 0., 0., 0., 0., 0., 0., 0., 0.],\n",
       "          [0., 0., 0., 0., 0., 0., 0., 0., 0., 0.],\n",
       "          [0., 0., 0., 0., 0., 0., 0., 0., 0., 0.],\n",
       "          [0., 0., 0., 0., 0., 0., 0., 0., 0., 0.]]]),\n",
       " tensor([3.2468e-04, 3.2468e-04, 3.2468e-04, 3.2468e-04, 3.2468e-04, 3.2468e-04,\n",
       "         3.2468e-04, 3.2468e-04, 3.2468e-04, 3.2468e-04, 3.2468e-04, 3.2468e-04,\n",
       "         3.2468e-04, 3.2468e-04, 3.2468e-04, 3.2468e-04, 3.2468e-04, 3.2468e-04,\n",
       "         3.2468e-04, 3.2468e-04, 3.2468e-04, 3.2468e-04, 3.2468e-04, 3.2468e-04,\n",
       "         3.2468e-04, 3.2468e-04, 3.2468e-04, 3.2468e-04, 3.2468e-04, 3.2468e-04,\n",
       "         3.2468e-04, 3.2468e-04, 3.2468e-04, 3.2468e-04, 3.2468e-04, 3.2468e-04,\n",
       "         3.2468e-04, 3.2468e-04, 3.2468e-04, 3.2468e-04, 3.2468e-04, 3.2468e-04,\n",
       "         3.2468e-04, 3.2468e-04, 9.6786e-01, 3.2468e-04, 3.2468e-04, 3.2468e-04,\n",
       "         3.2468e-04, 3.2468e-04, 3.2468e-04, 3.2468e-04, 3.2468e-04, 3.2468e-04,\n",
       "         3.2468e-04, 3.2468e-04, 3.2468e-04, 3.2468e-04, 3.2468e-04, 3.2468e-04,\n",
       "         3.2468e-04, 3.2468e-04, 3.2468e-04, 3.2468e-04, 3.2468e-04, 3.2468e-04,\n",
       "         3.2468e-04, 3.2468e-04, 3.2468e-04, 3.2468e-04, 3.2468e-04, 3.2468e-04,\n",
       "         3.2468e-04, 3.2468e-04, 3.2468e-04, 3.2468e-04, 3.2468e-04, 3.2468e-04,\n",
       "         3.2468e-04, 3.2468e-04, 3.2468e-04, 3.2468e-04, 3.2468e-04, 3.2468e-04,\n",
       "         3.2468e-04, 3.2468e-04, 3.2468e-04, 3.2468e-04, 3.2468e-04, 3.2468e-04,\n",
       "         3.2468e-04, 3.2468e-04, 3.2468e-04, 3.2468e-04, 3.2468e-04, 3.2468e-04,\n",
       "         3.2468e-04, 3.2468e-04, 3.2468e-04, 3.2468e-04]),\n",
       " tensor(1.))"
      ]
     },
     "execution_count": 20,
     "metadata": {},
     "output_type": "execute_result"
    }
   ],
   "source": [
    "# check the saved games\n",
    "with open('games.pickle', 'rb') as f:\n",
    "    pretrain_games = pickle.load(f)\n",
    "pretrain_games['board'][0], pretrain_games['move'][0], pretrain_games['result'][0]"
   ]
  },
  {
   "cell_type": "code",
   "execution_count": 21,
   "metadata": {},
   "outputs": [],
   "source": [
    "# save the augmented games\n",
    "pretrain_games_aug = {\n",
    "    'board': [g[0] for g in games_aug],\n",
    "    'move': [g[1] for g in games_aug],\n",
    "    'result': [g[2] for g in games_aug]\n",
    "}\n",
    "with open('games_aug.pickle', 'wb') as f:\n",
    "    pickle.dump(pretrain_games_aug, f)"
   ]
  },
  {
   "cell_type": "code",
   "execution_count": 22,
   "metadata": {},
   "outputs": [
    {
     "data": {
      "text/plain": [
       "(tensor([[[0., 0., 0., 0., 0., 0., 0., 0., 0., 0.],\n",
       "          [0., 0., 0., 0., 0., 0., 0., 0., 0., 0.],\n",
       "          [0., 0., 0., 0., 0., 0., 0., 0., 0., 0.],\n",
       "          [0., 0., 0., 0., 0., 0., 0., 0., 0., 0.],\n",
       "          [0., 0., 0., 0., 0., 0., 0., 0., 0., 0.],\n",
       "          [0., 0., 0., 0., 0., 0., 0., 0., 0., 0.],\n",
       "          [0., 0., 0., 0., 0., 0., 0., 0., 0., 0.],\n",
       "          [0., 0., 0., 0., 0., 0., 0., 0., 0., 0.],\n",
       "          [0., 0., 0., 0., 0., 0., 0., 0., 0., 0.],\n",
       "          [0., 0., 0., 0., 0., 0., 0., 0., 0., 0.]],\n",
       " \n",
       "         [[0., 0., 0., 0., 0., 0., 0., 0., 0., 0.],\n",
       "          [0., 0., 0., 0., 0., 0., 0., 0., 0., 0.],\n",
       "          [0., 0., 0., 0., 0., 0., 0., 0., 0., 0.],\n",
       "          [0., 0., 0., 0., 0., 0., 0., 0., 0., 0.],\n",
       "          [0., 0., 0., 0., 0., 0., 0., 0., 0., 0.],\n",
       "          [0., 0., 0., 0., 0., 0., 0., 0., 0., 0.],\n",
       "          [0., 0., 0., 0., 0., 0., 0., 0., 0., 0.],\n",
       "          [0., 0., 0., 0., 0., 0., 0., 0., 0., 0.],\n",
       "          [0., 0., 0., 0., 0., 0., 0., 0., 0., 0.],\n",
       "          [0., 0., 0., 0., 0., 0., 0., 0., 0., 0.]]]),\n",
       " tensor([3.2468e-04, 3.2468e-04, 3.2468e-04, 3.2468e-04, 3.2468e-04, 3.2468e-04,\n",
       "         3.2468e-04, 3.2468e-04, 3.2468e-04, 3.2468e-04, 3.2468e-04, 3.2468e-04,\n",
       "         3.2468e-04, 3.2468e-04, 3.2468e-04, 3.2468e-04, 3.2468e-04, 3.2468e-04,\n",
       "         3.2468e-04, 3.2468e-04, 3.2468e-04, 3.2468e-04, 3.2468e-04, 3.2468e-04,\n",
       "         3.2468e-04, 3.2468e-04, 3.2468e-04, 3.2468e-04, 3.2468e-04, 3.2468e-04,\n",
       "         3.2468e-04, 3.2468e-04, 3.2468e-04, 3.2468e-04, 3.2468e-04, 3.2468e-04,\n",
       "         3.2468e-04, 3.2468e-04, 3.2468e-04, 3.2468e-04, 3.2468e-04, 3.2468e-04,\n",
       "         3.2468e-04, 3.2468e-04, 9.6786e-01, 3.2468e-04, 3.2468e-04, 3.2468e-04,\n",
       "         3.2468e-04, 3.2468e-04, 3.2468e-04, 3.2468e-04, 3.2468e-04, 3.2468e-04,\n",
       "         3.2468e-04, 3.2468e-04, 3.2468e-04, 3.2468e-04, 3.2468e-04, 3.2468e-04,\n",
       "         3.2468e-04, 3.2468e-04, 3.2468e-04, 3.2468e-04, 3.2468e-04, 3.2468e-04,\n",
       "         3.2468e-04, 3.2468e-04, 3.2468e-04, 3.2468e-04, 3.2468e-04, 3.2468e-04,\n",
       "         3.2468e-04, 3.2468e-04, 3.2468e-04, 3.2468e-04, 3.2468e-04, 3.2468e-04,\n",
       "         3.2468e-04, 3.2468e-04, 3.2468e-04, 3.2468e-04, 3.2468e-04, 3.2468e-04,\n",
       "         3.2468e-04, 3.2468e-04, 3.2468e-04, 3.2468e-04, 3.2468e-04, 3.2468e-04,\n",
       "         3.2468e-04, 3.2468e-04, 3.2468e-04, 3.2468e-04, 3.2468e-04, 3.2468e-04,\n",
       "         3.2468e-04, 3.2468e-04, 3.2468e-04, 3.2468e-04]),\n",
       " tensor(1.))"
      ]
     },
     "execution_count": 22,
     "metadata": {},
     "output_type": "execute_result"
    }
   ],
   "source": [
    "# check the saved augmented games\n",
    "with open('games_aug.pickle', 'rb') as f:\n",
    "    pretrain_games_aug = pickle.load(f)\n",
    "pretrain_games_aug['board'][0], pretrain_games_aug['move'][0], pretrain_games_aug['result'][0]"
   ]
  }
 ],
 "metadata": {
  "kernelspec": {
   "display_name": "base",
   "language": "python",
   "name": "python3"
  },
  "language_info": {
   "codemirror_mode": {
    "name": "ipython",
    "version": 3
   },
   "file_extension": ".py",
   "mimetype": "text/x-python",
   "name": "python",
   "nbconvert_exporter": "python",
   "pygments_lexer": "ipython3",
   "version": "3.10.12"
  }
 },
 "nbformat": 4,
 "nbformat_minor": 2
}
